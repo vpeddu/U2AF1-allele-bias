{
 "metadata": {
  "language_info": {
   "codemirror_mode": {
    "name": "ipython",
    "version": 3
   },
   "file_extension": ".py",
   "mimetype": "text/x-python",
   "name": "python",
   "nbconvert_exporter": "python",
   "pygments_lexer": "ipython3",
   "version": "3.8.2-final"
  },
  "orig_nbformat": 2,
  "kernelspec": {
   "name": "python3",
   "display_name": "Python 3.8.2 64-bit",
   "metadata": {
    "interpreter": {
     "hash": "31f2aee4e71d21fbe5cf8b01ff0e069b9275f58929596ceb00d14d90e3e16cd6"
    }
   }
  }
 },
 "nbformat": 4,
 "nbformat_minor": 2,
 "cells": [
  {
   "cell_type": "code",
   "execution_count": 103,
   "metadata": {},
   "outputs": [],
   "source": [
    "import sys\n",
    "import pysam \n",
    "import mygene\n",
    "import matplotlib\n",
    "import numpy as np\n",
    "\n",
    "bam_filepath = '/Users/vikas/Downloads/hisat2/F_S14_L002.sorted.bam'\n",
    "\n",
    "bamfile = pysam.AlignmentFile(bam_filepath, \"rb\")\n",
    "\n",
    "bed_filepath = '/Users/vikas/Documents/UCSC/rotations/Brooks/rotation_project/U2AF1-allele-bias/test_bams/hg38.sorted.bed.gz'\n",
    "\n",
    "bedfile = pysam.TabixFile(bed_filepath)"
   ]
  },
  {
   "cell_type": "code",
   "execution_count": 105,
   "metadata": {
    "tags": []
   },
   "outputs": [],
   "source": [
    "region = bamfile.fetch(\"chr1\", 0, 3194164)\n",
    "for read in region:\n",
    "    num_aligned = (len(read.get_reference_positions()))\n",
    "    reference_positions = read.get_reference_positions()\n",
    "    #ref_sequence = read.get_reference_sequence()\n",
    "    bitscore = read.flag\n",
    "    readname = read.query_name\n",
    "    # prints readnames of files with secondary alignments\n",
    "    # if bitscore & 256: \n",
    "    #     print(readname)"
   ]
  },
  {
   "cell_type": "code",
   "execution_count": 128,
   "metadata": {},
   "outputs": [
    {
     "output_type": "stream",
     "name": "stdout",
     "text": [
      "['ENST00000291552', 'ENST00000380276', 'ENST00000459639', 'ENST00000463599', 'ENST00000464750', 'ENST00000468039', 'ENST00000471250', 'ENST00000475639', 'ENST00000478282', 'ENST00000486519', 'ENST00000496462', 'ENST00000292879', 'ENST00000378975', 'ENST00000412391', 'ENST00000585554', 'ENST00000585771', 'ENST00000586476', 'ENST00000587886', 'ENST00000587987', 'ENST00000588100', 'ENST00000588892', 'ENST00000588980', 'ENST00000589429', 'ENST00000590135', 'ENST00000590650', 'ENST00000591057', 'ENST00000591084', 'ENST00000591855', 'ENST00000592913', 'ENST00000594792', 'ENST00000600296', 'ENST00000601236', 'ENST00000307771', 'ENST00000380308', 'ENST00000468028']\n"
     ]
    }
   ],
   "source": [
    "mg = mygene.MyGeneInfo()\n",
    "result = mg.query(\"U2AF1\", scopes = 'symbol', field = ['ensembl'], species = 'human')\n",
    "matched_t_ids = []\n",
    "for hit in result[\"hits\"]:\n",
    "     if \"ensembl\" in hit and \"transcript\" in hit[\"ensembl\"]:\n",
    "          matched_t_ids.append((hit[\"ensembl\"][\"transcript\"]))\n",
    "#print((matched_tids))\n",
    "matched_t_ids = list(np.concatenate(matched_t_ids))\n",
    "print(matched_t_ids)\n"
   ]
  },
  {
   "cell_type": "code",
   "execution_count": null,
   "metadata": {},
   "outputs": [],
   "source": []
  }
 ]
}