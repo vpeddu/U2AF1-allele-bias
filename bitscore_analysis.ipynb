{
 "metadata": {
  "language_info": {
   "codemirror_mode": {
    "name": "ipython",
    "version": 3
   },
   "file_extension": ".py",
   "mimetype": "text/x-python",
   "name": "python",
   "nbconvert_exporter": "python",
   "pygments_lexer": "ipython3",
   "version": "3.6.4-final"
  },
  "orig_nbformat": 2,
  "kernelspec": {
   "name": "python3",
   "display_name": "Python 3.6.4 64-bit",
   "metadata": {
    "interpreter": {
     "hash": "aee8b7b246df8f9039afb4144a1f6fd8d2ca17a180786b69acc140d282b71a49"
    }
   }
  }
 },
 "nbformat": 4,
 "nbformat_minor": 2,
 "cells": [
  {
   "cell_type": "code",
   "execution_count": 2,
   "metadata": {},
   "outputs": [
    {
     "output_type": "error",
     "ename": "FileNotFoundError",
     "evalue": "[Errno 2] could not open alignment file `/Users/vikas/mount2/vpeddu/platypus_run/bigboi/hisat2/F_S14_L002.sorted.bam`: No such file or directory",
     "traceback": [
      "\u001b[0;31m---------------------------------------------------------------------------\u001b[0m",
      "\u001b[0;31mFileNotFoundError\u001b[0m                         Traceback (most recent call last)",
      "\u001b[0;32m<ipython-input-2-eac544d52c31>\u001b[0m in \u001b[0;36m<module>\u001b[0;34m\u001b[0m\n\u001b[1;32m     14\u001b[0m \u001b[0;31m#bam_filepath = glob.glob('/Users/vikas/mount/vpeddu/platypus_run/bigboi/hisat2/*.bam')\u001b[0m\u001b[0;34m\u001b[0m\u001b[0;34m\u001b[0m\u001b[0m\n\u001b[1;32m     15\u001b[0m \u001b[0mbam_filepath\u001b[0m \u001b[0;34m=\u001b[0m \u001b[0;34m'/Users/vikas/mount2/vpeddu/platypus_run/bigboi/hisat2/F_S14_L002.sorted.bam'\u001b[0m\u001b[0;34m\u001b[0m\u001b[0m\n\u001b[0;32m---> 16\u001b[0;31m \u001b[0mbamfile\u001b[0m \u001b[0;34m=\u001b[0m \u001b[0mpysam\u001b[0m\u001b[0;34m.\u001b[0m\u001b[0mAlignmentFile\u001b[0m\u001b[0;34m(\u001b[0m\u001b[0mbam_filepath\u001b[0m\u001b[0;34m,\u001b[0m \u001b[0;34m\"rb\"\u001b[0m\u001b[0;34m)\u001b[0m\u001b[0;34m\u001b[0m\u001b[0m\n\u001b[0m\u001b[1;32m     17\u001b[0m \u001b[0;34m\u001b[0m\u001b[0m\n\u001b[1;32m     18\u001b[0m \u001b[0mbed_filepath\u001b[0m \u001b[0;34m=\u001b[0m \u001b[0;34m'/Users/vikas/Documents/UCSC/rotations/Brooks/rotation_project/U2AF1-allele-bias/test_bams/hg38.sorted.bed.gz'\u001b[0m\u001b[0;34m\u001b[0m\u001b[0m\n",
      "\u001b[0;32mpysam/libcalignmentfile.pyx\u001b[0m in \u001b[0;36mpysam.libcalignmentfile.AlignmentFile.__cinit__\u001b[0;34m()\u001b[0m\n",
      "\u001b[0;32mpysam/libcalignmentfile.pyx\u001b[0m in \u001b[0;36mpysam.libcalignmentfile.AlignmentFile._open\u001b[0;34m()\u001b[0m\n",
      "\u001b[0;31mFileNotFoundError\u001b[0m: [Errno 2] could not open alignment file `/Users/vikas/mount2/vpeddu/platypus_run/bigboi/hisat2/F_S14_L002.sorted.bam`: No such file or directory"
     ]
    }
   ],
   "source": [
    "### chr21:6,224,684-6,319,172\n",
    "### LOC102723360\n",
    "\n",
    "import os\n",
    "import sys\n",
    "import glob\n",
    "import pysam \n",
    "import mygene\n",
    "import functools\n",
    "import matplotlib\n",
    "import numpy as np\n",
    "import pandas as pd\n",
    "\n",
    "#bam_filepath = glob.glob('/Users/vikas/mount/vpeddu/platypus_run/bigboi/hisat2/*.bam')\n",
    "bam_filepath = '/Users/vikas/mount2/vpeddu/platypus_run/bigboi/hisat2/F_S14_L002.sorted.bam'\n",
    "bamfile = pysam.AlignmentFile(bam_filepath, \"rb\")\n",
    "\n",
    "bed_filepath = '/Users/vikas/Documents/UCSC/rotations/Brooks/rotation_project/U2AF1-allele-bias/test_bams/hg38.sorted.bed.gz'\n",
    "\n",
    "bedfile = pysam.TabixFile(bed_filepath)\n",
    "\n",
    "files = []\n",
    "primary_u2af1 = []\n",
    "primary_newgene = []"
   ]
  },
  {
   "cell_type": "code",
   "execution_count": null,
   "metadata": {},
   "outputs": [],
   "source": []
  },
  {
   "cell_type": "code",
   "execution_count": 9,
   "metadata": {},
   "outputs": [
    {
     "output_type": "stream",
     "name": "stdout",
     "text": [
      "['/Users/vikas/mount/vpeddu/platypus_run/bigboi/Platypus/N_S22_L002.opossum.bam', '/Users/vikas/mount/vpeddu/platypus_run/bigboi/Platypus/B_S142_L002.opossum.bam', '/Users/vikas/mount/vpeddu/platypus_run/bigboi/Platypus/R_S157_L002.opossum.bam', '/Users/vikas/mount/vpeddu/platypus_run/bigboi/Platypus/J_S150_L002.opossum.bam', '/Users/vikas/mount/vpeddu/platypus_run/bigboi/Platypus/Q_S156_L002.opossum.bam', '/Users/vikas/mount/vpeddu/platypus_run/bigboi/Platypus/D_S144_L002.opossum.bam', '/Users/vikas/mount/vpeddu/platypus_run/bigboi/Platypus/O_S154_L002.opossum.bam', '/Users/vikas/mount/vpeddu/platypus_run/bigboi/Platypus/H_S148_L002.opossum.bam', '/Users/vikas/mount/vpeddu/platypus_run/bigboi/Platypus/I_S149_L002.opossum.bam', '/Users/vikas/mount/vpeddu/platypus_run/bigboi/Platypus/A_S141_L002.opossum.bam', '/Users/vikas/mount/vpeddu/platypus_run/bigboi/Platypus/M_S21_L002.opossum.bam', '/Users/vikas/mount/vpeddu/platypus_run/bigboi/Platypus/G_S147_L002.opossum.bam', '/Users/vikas/mount/vpeddu/platypus_run/bigboi/Platypus/P_S155_L002.opossum.bam', '/Users/vikas/mount/vpeddu/platypus_run/bigboi/Platypus/K_S151_L002.opossum.bam', '/Users/vikas/mount/vpeddu/platypus_run/bigboi/Platypus/L_S152_L002.opossum.bam', '/Users/vikas/mount/vpeddu/platypus_run/bigboi/Platypus/F_S14_L002.opossum.bam', '/Users/vikas/mount/vpeddu/platypus_run/bigboi/Platypus/E_S145_L002.opossum.bam', '/Users/vikas/mount/vpeddu/platypus_run/bigboi/Platypus/C_S143_L002.opossum.bam']\n",
      "done\n"
     ]
    }
   ],
   "source": [
    "import os\n",
    "import sys\n",
    "import glob\n",
    "import pysam \n",
    "import mygene\n",
    "import matplotlib\n",
    "import numpy as np\n",
    "import pandas as pd\n",
    "\n",
    "bam_files = glob.glob('/Users/vikas/mount/vpeddu/platypus_run/bigboi/Platypus/*.bam')\n",
    "#bam_filepath = '/Users/vikas/mount/vpeddu/platypus_run/bigboi/hisat2/F_S14_L002.sorted.bam'\n",
    "files = []\n",
    "primary_u2af1 = []\n",
    "primary_newgene = []\n",
    "for bam_filepath in bam_files:\n",
    "    bamfile = pysam.AlignmentFile(bam_filepath, \"rb\")\n",
    "\n",
    "    # really really slow counting\n",
    "    # print(bam_filepath)\n",
    "    # x = pysam.view(\"-c\", bam_filepath ,catch_stdout=True)\n",
    "    # print(x)\n",
    "    # bed_filepath = '/Users/vikas/Documents/UCSC/rotations/Brooks/rotation_project/U2AF1-allele-bias/test_bams/hg38.sorted.bed.gz'\n",
    "\n",
    "    # bedfile = pysam.TabixFile(bed_filepath)\n",
    "\n",
    "\n",
    "\n",
    "    # region is U2AF1\n",
    "    region = bamfile.fetch(\"chr21\",43090956,43110291)\n",
    "\n",
    "    read_dict = {'name':[],'bitscore':[], \"bases_aligned\": [] , \"file\":[]}\n",
    "    for read in region:\n",
    "        read_dict['name'].append(read.query_name)\n",
    "        read_dict['bases_aligned'].append(len(read.get_reference_positions()))\n",
    "        #read_dict['reference_start'].append(read.reference_start)\n",
    "        #ref_sequence = read.get_reference_sequence()\n",
    "        read_dict['bitscore'].append(read.flag)\n",
    "        read_dict['file'].append(os.path.basename(bam_filepath).split('.')[0])\n",
    "        #read_dict[readname] = [num_aligned, reference_positions, bitscore]\n",
    "        # prints readnames of files with secondary alignments\n",
    "        # if bitscore & 256: \n",
    "    #bedfile.get_reference_name('ENST00000459639')\n",
    "    #df = pd.DataFrame(list(zip(readname, bitscore, reference_positions)))\n",
    "    df = pd.DataFrame(read_dict)\n",
    "    #df\n",
    "    #secondary_aligned = [(name) for (score,name) in zip(df['bitscore'], df['name']) if score & 256]\n",
    "    primary_aligned = [(name) for (score,name) in zip(df['bitscore'], df['name']) if score & 256 == 0]\n",
    "\n",
    "\n",
    "    # print('number of secondary aligned:' , str(len(secondary_aligned)))\n",
    "    # print('number of primary aligned:' , str(len(primary_aligned)))\n",
    "    # df.loc[df['bitscore'] & 256] \n",
    "\n",
    "    files.append(os.path.basename(bam_filepath).split('.')[0])\n",
    "    primary_u2af1.append(len(primary_aligned))\n",
    "\n",
    "\n",
    "    # weird new region\n",
    "    new_region = bamfile.fetch(\"chr21\",6482623,6501969)\n",
    "    \n",
    "    read_dict = {'name':[],'bitscore':[], \"bases_aligned\": [] , \"file\":[]}\n",
    "    for read in new_region:\n",
    "        read_dict['name'].append(read.query_name)\n",
    "        read_dict['bases_aligned'].append(len(read.get_reference_positions()))\n",
    "        #read_dict['reference_start'].append(read.reference_start)\n",
    "        #ref_sequence = read.get_reference_sequence()\n",
    "        read_dict['bitscore'].append(read.flag)\n",
    "        read_dict['file'].append(os.path.basename(bam_filepath).split('.')[0])\n",
    "        #read_dict[readname] = [num_aligned, reference_positions, bitscore]\n",
    "        # prints readnames of files with secondary alignments\n",
    "        # if bitscore & 256: \n",
    "    #bedfile.get_reference_name('ENST00000459639')\n",
    "    #df = pd.DataFrame(list(zip(readname, bitscore, reference_positions)))\n",
    "    newdf = pd.DataFrame(read_dict)\n",
    "    newdf = newdf.loc[newdf['bitscore'] & 256 == 0] \n",
    "    #newdf\n",
    "\n",
    "    #files.append(os.path.basename(bam_filepath).split('.')[0])\n",
    "    primary_newgene.append(len(newdf))\n",
    "print('done')"
   ]
  },
  {
   "cell_type": "code",
   "execution_count": 10,
   "metadata": {},
   "outputs": [],
   "source": [
    "metadata = pd.read_csv('/Users/vikas/Documents/UCSC/rotations/Brooks/rotation_project/helpful_stuff/nf_rnaseq_input.csv')\n",
    "new_names = []\n",
    "for i in files: \n",
    "    rep = metadata.loc[metadata['bam'] == i, 'replicate'].iloc[0]\n",
    "    name = metadata.loc[metadata['bam'] == i, 'group'].iloc[0]\n",
    "    new_names.append(name + '.' + str(rep))\n",
    "plot_df = pd.DataFrame(list(zip(primary_u2af1,primary_newgene)), index = new_names, columns = ['U2AF1',\"loc6230889\"])\n",
    "#plot_df = plot_df.T\n",
    "#plot_df.plot.bar()\n",
    "plot_df.to_csv('u2af')"
   ]
  },
  {
   "cell_type": "code",
   "execution_count": 13,
   "metadata": {},
   "outputs": [
    {
     "output_type": "error",
     "ename": "TypeError",
     "evalue": "no numeric data to plot",
     "traceback": [
      "\u001b[0;31m---------------------------------------------------------------------------\u001b[0m",
      "\u001b[0;31mTypeError\u001b[0m                                 Traceback (most recent call last)",
      "\u001b[0;32m<ipython-input-13-d9aceb1b201f>\u001b[0m in \u001b[0;36m<module>\u001b[0;34m\u001b[0m\n\u001b[1;32m      2\u001b[0m \u001b[0mpercent_df\u001b[0m \u001b[0;34m=\u001b[0m \u001b[0mpd\u001b[0m\u001b[0;34m.\u001b[0m\u001b[0mDataFrame\u001b[0m\u001b[0;34m(\u001b[0m\u001b[0mdivided\u001b[0m\u001b[0;34m,\u001b[0m \u001b[0mindex\u001b[0m \u001b[0;34m=\u001b[0m \u001b[0mnew_names\u001b[0m\u001b[0;34m,\u001b[0m \u001b[0mcolumns\u001b[0m \u001b[0;34m=\u001b[0m \u001b[0;34m[\u001b[0m\u001b[0;34m'ratio newgene:U2AF1 (aligned)'\u001b[0m\u001b[0;34m]\u001b[0m\u001b[0;34m)\u001b[0m\u001b[0;34m\u001b[0m\u001b[0m\n\u001b[1;32m      3\u001b[0m \u001b[0;34m\u001b[0m\u001b[0m\n\u001b[0;32m----> 4\u001b[0;31m \u001b[0mpercent_df\u001b[0m\u001b[0;34m.\u001b[0m\u001b[0mplot\u001b[0m\u001b[0;34m.\u001b[0m\u001b[0mbar\u001b[0m\u001b[0;34m(\u001b[0m\u001b[0;34m)\u001b[0m\u001b[0;34m\u001b[0m\u001b[0m\n\u001b[0m",
      "\u001b[0;32m/Library/Frameworks/Python.framework/Versions/3.6/lib/python3.6/site-packages/pandas/plotting/_core.py\u001b[0m in \u001b[0;36mbar\u001b[0;34m(self, x, y, **kwargs)\u001b[0m\n\u001b[1;32m   1105\u001b[0m         \u001b[0mother\u001b[0m \u001b[0maxis\u001b[0m \u001b[0mrepresents\u001b[0m \u001b[0ma\u001b[0m \u001b[0mmeasured\u001b[0m \u001b[0mvalue\u001b[0m\u001b[0;34m.\u001b[0m\u001b[0;34m\u001b[0m\u001b[0m\n\u001b[1;32m   1106\u001b[0m         \"\"\"\n\u001b[0;32m-> 1107\u001b[0;31m         \u001b[0;32mreturn\u001b[0m \u001b[0mself\u001b[0m\u001b[0;34m(\u001b[0m\u001b[0mkind\u001b[0m\u001b[0;34m=\u001b[0m\u001b[0;34m\"bar\"\u001b[0m\u001b[0;34m,\u001b[0m \u001b[0mx\u001b[0m\u001b[0;34m=\u001b[0m\u001b[0mx\u001b[0m\u001b[0;34m,\u001b[0m \u001b[0my\u001b[0m\u001b[0;34m=\u001b[0m\u001b[0my\u001b[0m\u001b[0;34m,\u001b[0m \u001b[0;34m**\u001b[0m\u001b[0mkwargs\u001b[0m\u001b[0;34m)\u001b[0m\u001b[0;34m\u001b[0m\u001b[0m\n\u001b[0m\u001b[1;32m   1108\u001b[0m \u001b[0;34m\u001b[0m\u001b[0m\n\u001b[1;32m   1109\u001b[0m     @Appender(\n",
      "\u001b[0;32m/Library/Frameworks/Python.framework/Versions/3.6/lib/python3.6/site-packages/pandas/plotting/_core.py\u001b[0m in \u001b[0;36m__call__\u001b[0;34m(self, *args, **kwargs)\u001b[0m\n\u001b[1;32m    947\u001b[0m                     \u001b[0mdata\u001b[0m\u001b[0;34m.\u001b[0m\u001b[0mcolumns\u001b[0m \u001b[0;34m=\u001b[0m \u001b[0mlabel_name\u001b[0m\u001b[0;34m\u001b[0m\u001b[0m\n\u001b[1;32m    948\u001b[0m \u001b[0;34m\u001b[0m\u001b[0m\n\u001b[0;32m--> 949\u001b[0;31m         \u001b[0;32mreturn\u001b[0m \u001b[0mplot_backend\u001b[0m\u001b[0;34m.\u001b[0m\u001b[0mplot\u001b[0m\u001b[0;34m(\u001b[0m\u001b[0mdata\u001b[0m\u001b[0;34m,\u001b[0m \u001b[0mkind\u001b[0m\u001b[0;34m=\u001b[0m\u001b[0mkind\u001b[0m\u001b[0;34m,\u001b[0m \u001b[0;34m**\u001b[0m\u001b[0mkwargs\u001b[0m\u001b[0;34m)\u001b[0m\u001b[0;34m\u001b[0m\u001b[0m\n\u001b[0m\u001b[1;32m    950\u001b[0m \u001b[0;34m\u001b[0m\u001b[0m\n\u001b[1;32m    951\u001b[0m     \u001b[0m__call__\u001b[0m\u001b[0;34m.\u001b[0m\u001b[0m__doc__\u001b[0m \u001b[0;34m=\u001b[0m \u001b[0m__doc__\u001b[0m\u001b[0;34m\u001b[0m\u001b[0m\n",
      "\u001b[0;32m/Library/Frameworks/Python.framework/Versions/3.6/lib/python3.6/site-packages/pandas/plotting/_matplotlib/__init__.py\u001b[0m in \u001b[0;36mplot\u001b[0;34m(data, kind, **kwargs)\u001b[0m\n\u001b[1;32m     59\u001b[0m             \u001b[0mkwargs\u001b[0m\u001b[0;34m[\u001b[0m\u001b[0;34m\"ax\"\u001b[0m\u001b[0;34m]\u001b[0m \u001b[0;34m=\u001b[0m \u001b[0mgetattr\u001b[0m\u001b[0;34m(\u001b[0m\u001b[0max\u001b[0m\u001b[0;34m,\u001b[0m \u001b[0;34m\"left_ax\"\u001b[0m\u001b[0;34m,\u001b[0m \u001b[0max\u001b[0m\u001b[0;34m)\u001b[0m\u001b[0;34m\u001b[0m\u001b[0m\n\u001b[1;32m     60\u001b[0m     \u001b[0mplot_obj\u001b[0m \u001b[0;34m=\u001b[0m \u001b[0mPLOT_CLASSES\u001b[0m\u001b[0;34m[\u001b[0m\u001b[0mkind\u001b[0m\u001b[0;34m]\u001b[0m\u001b[0;34m(\u001b[0m\u001b[0mdata\u001b[0m\u001b[0;34m,\u001b[0m \u001b[0;34m**\u001b[0m\u001b[0mkwargs\u001b[0m\u001b[0;34m)\u001b[0m\u001b[0;34m\u001b[0m\u001b[0m\n\u001b[0;32m---> 61\u001b[0;31m     \u001b[0mplot_obj\u001b[0m\u001b[0;34m.\u001b[0m\u001b[0mgenerate\u001b[0m\u001b[0;34m(\u001b[0m\u001b[0;34m)\u001b[0m\u001b[0;34m\u001b[0m\u001b[0m\n\u001b[0m\u001b[1;32m     62\u001b[0m     \u001b[0mplot_obj\u001b[0m\u001b[0;34m.\u001b[0m\u001b[0mdraw\u001b[0m\u001b[0;34m(\u001b[0m\u001b[0;34m)\u001b[0m\u001b[0;34m\u001b[0m\u001b[0m\n\u001b[1;32m     63\u001b[0m     \u001b[0;32mreturn\u001b[0m \u001b[0mplot_obj\u001b[0m\u001b[0;34m.\u001b[0m\u001b[0mresult\u001b[0m\u001b[0;34m\u001b[0m\u001b[0m\n",
      "\u001b[0;32m/Library/Frameworks/Python.framework/Versions/3.6/lib/python3.6/site-packages/pandas/plotting/_matplotlib/core.py\u001b[0m in \u001b[0;36mgenerate\u001b[0;34m(self)\u001b[0m\n\u001b[1;32m    267\u001b[0m     \u001b[0;32mdef\u001b[0m \u001b[0mgenerate\u001b[0m\u001b[0;34m(\u001b[0m\u001b[0mself\u001b[0m\u001b[0;34m)\u001b[0m\u001b[0;34m:\u001b[0m\u001b[0;34m\u001b[0m\u001b[0m\n\u001b[1;32m    268\u001b[0m         \u001b[0mself\u001b[0m\u001b[0;34m.\u001b[0m\u001b[0m_args_adjust\u001b[0m\u001b[0;34m(\u001b[0m\u001b[0;34m)\u001b[0m\u001b[0;34m\u001b[0m\u001b[0m\n\u001b[0;32m--> 269\u001b[0;31m         \u001b[0mself\u001b[0m\u001b[0;34m.\u001b[0m\u001b[0m_compute_plot_data\u001b[0m\u001b[0;34m(\u001b[0m\u001b[0;34m)\u001b[0m\u001b[0;34m\u001b[0m\u001b[0m\n\u001b[0m\u001b[1;32m    270\u001b[0m         \u001b[0mself\u001b[0m\u001b[0;34m.\u001b[0m\u001b[0m_setup_subplots\u001b[0m\u001b[0;34m(\u001b[0m\u001b[0;34m)\u001b[0m\u001b[0;34m\u001b[0m\u001b[0m\n\u001b[1;32m    271\u001b[0m         \u001b[0mself\u001b[0m\u001b[0;34m.\u001b[0m\u001b[0m_make_plot\u001b[0m\u001b[0;34m(\u001b[0m\u001b[0;34m)\u001b[0m\u001b[0;34m\u001b[0m\u001b[0m\n",
      "\u001b[0;32m/Library/Frameworks/Python.framework/Versions/3.6/lib/python3.6/site-packages/pandas/plotting/_matplotlib/core.py\u001b[0m in \u001b[0;36m_compute_plot_data\u001b[0;34m(self)\u001b[0m\n\u001b[1;32m    416\u001b[0m         \u001b[0;31m# no non-numeric frames or series allowed\u001b[0m\u001b[0;34m\u001b[0m\u001b[0;34m\u001b[0m\u001b[0m\n\u001b[1;32m    417\u001b[0m         \u001b[0;32mif\u001b[0m \u001b[0mis_empty\u001b[0m\u001b[0;34m:\u001b[0m\u001b[0;34m\u001b[0m\u001b[0m\n\u001b[0;32m--> 418\u001b[0;31m             \u001b[0;32mraise\u001b[0m \u001b[0mTypeError\u001b[0m\u001b[0;34m(\u001b[0m\u001b[0;34m\"no numeric data to plot\"\u001b[0m\u001b[0;34m)\u001b[0m\u001b[0;34m\u001b[0m\u001b[0m\n\u001b[0m\u001b[1;32m    419\u001b[0m \u001b[0;34m\u001b[0m\u001b[0m\n\u001b[1;32m    420\u001b[0m         \u001b[0;31m# GH25587: cast ExtensionArray of pandas (IntegerArray, etc.) to\u001b[0m\u001b[0;34m\u001b[0m\u001b[0;34m\u001b[0m\u001b[0m\n",
      "\u001b[0;31mTypeError\u001b[0m: no numeric data to plot"
     ]
    }
   ],
   "source": [
    "divided = [ ( i / j  ) for i, j in zip(primary_newgene, primary_u2af1)]\n",
    "percent_df = pd.DataFrame(divided, index = new_names, columns = ['ratio newgene:U2AF1 (aligned)'])\n",
    "\n",
    "percent_df.plot.bar()"
   ]
  },
  {
   "cell_type": "code",
   "execution_count": null,
   "metadata": {},
   "outputs": [],
   "source": []
  }
 ]
}